{
 "cells": [
  {
   "cell_type": "code",
   "execution_count": null,
   "id": "86bbb8a1",
   "metadata": {},
   "outputs": [],
   "source": []
  },
  {
   "cell_type": "markdown",
   "id": "6bd76109",
   "metadata": {},
   "source": [
    "# Used Car Price Prediction\n",
    "**Life cycle of Machine learning Project**\n",
    "\n",
    "* Understanding the Problem Statement\n",
    "* Data Collection\n",
    "* Exploratory data analysis\n",
    "* Data Cleaning\n",
    "* Data Pre-Processing\n",
    "* Model Training \n",
    "* Choose best model"
   ]
  },
  {
   "cell_type": "markdown",
   "id": "a7dad9a2",
   "metadata": {},
   "source": [
    "## 1) Problem statement.\n",
    "\n",
    "* This dataset comprises used cars sold on cardehko.com in India as well as important features of these cars.\n",
    "* If user can predict the price of the car based on input features.\n",
    "* Prediction results can be used to give new seller the price suggestion based on market condition."
   ]
  },
  {
   "cell_type": "markdown",
   "id": "86892163",
   "metadata": {},
   "source": [
    "## 2) Data Collection.\n",
    "* The Dataset is collected from scrapping from cardheko webiste\n",
    "* The data consists of 13 column and 15411 rows."
   ]
  },
  {
   "cell_type": "markdown",
   "id": "c6e2741b",
   "metadata": {},
   "source": [
    "## 2.1 Import Data and Required Packages"
   ]
  },
  {
   "cell_type": "markdown",
   "id": "000732da",
   "metadata": {},
   "source": [
    "### Importing Pandas, Numpy, Matplotlib, Seaborn and Warnings Library"
   ]
  },
  {
   "cell_type": "code",
   "execution_count": 1,
   "id": "dc75b640",
   "metadata": {},
   "outputs": [
    {
     "ename": "ModuleNotFoundError",
     "evalue": "No module named 'seaborn'",
     "output_type": "error",
     "traceback": [
      "\u001b[1;31m---------------------------------------------------------------------------\u001b[0m",
      "\u001b[1;31mModuleNotFoundError\u001b[0m                       Traceback (most recent call last)",
      "Cell \u001b[1;32mIn[1], line 4\u001b[0m\n\u001b[0;32m      2\u001b[0m \u001b[38;5;28;01mimport\u001b[39;00m \u001b[38;5;21;01mnumpy\u001b[39;00m \u001b[38;5;28;01mas\u001b[39;00m \u001b[38;5;21;01mnp\u001b[39;00m\n\u001b[0;32m      3\u001b[0m \u001b[38;5;28;01mimport\u001b[39;00m \u001b[38;5;21;01mmatplotlib\u001b[39;00m\u001b[38;5;21;01m.\u001b[39;00m\u001b[38;5;21;01mpyplot\u001b[39;00m \u001b[38;5;28;01mas\u001b[39;00m \u001b[38;5;21;01mplt\u001b[39;00m\n\u001b[1;32m----> 4\u001b[0m \u001b[38;5;28;01mimport\u001b[39;00m \u001b[38;5;21;01mseaborn\u001b[39;00m \u001b[38;5;28;01mas\u001b[39;00m \u001b[38;5;21;01msns\u001b[39;00m\n\u001b[0;32m      5\u001b[0m \u001b[38;5;28;01mimport\u001b[39;00m \u001b[38;5;21;01mplotly\u001b[39;00m\u001b[38;5;21;01m.\u001b[39;00m\u001b[38;5;21;01mexpress\u001b[39;00m \u001b[38;5;28;01mas\u001b[39;00m \u001b[38;5;21;01mpx\u001b[39;00m\n\u001b[0;32m      6\u001b[0m \u001b[38;5;28;01mimport\u001b[39;00m \u001b[38;5;21;01mwarnings\u001b[39;00m\n",
      "\u001b[1;31mModuleNotFoundError\u001b[0m: No module named 'seaborn'"
     ]
    }
   ],
   "source": [
    "import pandas as pd\n",
    "import numpy as np\n",
    "import matplotlib.pyplot as plt\n",
    "import seaborn as sns\n",
    "import plotly.express as px\n",
    "import warnings\n",
    "from six.moves import urllib\n",
    "\n",
    "warnings.filterwarnings(\"ignore\")\n",
    "\n",
    "%matplotlib inline"
   ]
  },
  {
   "cell_type": "markdown",
   "id": "09e5050e",
   "metadata": {},
   "source": [
    "**Download and Import the CSV Data as Pandas DataFrame**"
   ]
  },
  {
   "cell_type": "code",
   "execution_count": null,
   "id": "40e50abc",
   "metadata": {},
   "outputs": [],
   "source": [
    "download_dir = \"./data/\"\n",
    "\n",
    "download_url = \"https://raw.githubusercontent.com/aravind9722/datasets-for-ML-projects/main/cardekho_dataset.csv\"\n",
    "\n",
    "os.makedirs(download_dir,exist_ok=True)\n",
    "\n",
    "filename = os.path.basename(download_url)\n",
    "\n",
    "download_file_path = os.path.join(download_dir, filename)\n",
    "\n",
    "urllib.request.urlretrieve(download_url, download_file_path)\n",
    "\n",
    "df = pd.read_csv(download_file_path, index_col=[0])"
   ]
  }
 ],
 "metadata": {
  "kernelspec": {
   "display_name": "Python [conda env:carprice]",
   "language": "python",
   "name": "conda-env-carprice-py"
  },
  "language_info": {
   "codemirror_mode": {
    "name": "ipython",
    "version": 3
   },
   "file_extension": ".py",
   "mimetype": "text/x-python",
   "name": "python",
   "nbconvert_exporter": "python",
   "pygments_lexer": "ipython3",
   "version": "3.9.16"
  }
 },
 "nbformat": 4,
 "nbformat_minor": 5
}
